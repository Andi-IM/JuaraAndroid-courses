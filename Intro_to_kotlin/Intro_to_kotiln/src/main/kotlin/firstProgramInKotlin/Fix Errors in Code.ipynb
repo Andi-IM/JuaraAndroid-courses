{
 "cells": [
  {
   "cell_type": "markdown",
   "source": [
    "When you learn a human language, there are rules of syntax and grammar for the correct way to use words and form sentences. Similarly, for programming languages, there are specific rules for what makes valid code, which means code that compiles successfully.\n",
    "\n",
    "A normal part of the coding process involves making mistakes and accidentally writing invalid code. As a beginner, it may be confusing or overwhelming to encounter these mistakes. But don't worry, this is expected. Code rarely works perfectly the first time that it's written. Just like how writing a document takes many drafts, writing code can take many iterations until it works as expected.\n",
    "\n",
    "If the code can't compile successfully, there's an error. For example, if you have a typo, such as a missing quotation mark or parenthesis, the compiler won't understand your code and can't translate it into steps for the computer to perform. If your code doesn't work as expected, or you see an error message in your code editor, you have to go back to your code and fix it. The process of solving these errors is called troubleshooting.\n",
    "\n",
    "Run the program below. What do you see?"
   ],
   "metadata": {
    "collapsed": false
   }
  },
  {
   "cell_type": "code",
   "execution_count": 1,
   "metadata": {
    "collapsed": true,
    "ExecuteTime": {
     "end_time": "2023-10-14T00:27:43.260411Z",
     "start_time": "2023-10-14T00:27:43.243799700Z"
    }
   },
   "outputs": [
    {
     "name": "stderr",
     "output_type": "stream",
     "text": [
      "Line_1.jupyter.kts (1:26 - 26) Expecting '\"'\n",
      "Line_1.jupyter.kts (1:26 - 26) Expecting ')'"
     ]
    }
   ],
   "source": [
    "println(\"Today is sunny!)"
   ]
  },
  {
   "cell_type": "markdown",
   "source": [
    "The error messages start with the word \"Expecting\" because the Kotlin compiler is \"expecting\" something but not finding it in the code. In this case, the compiler is expecting a closing quotation mark and a closing parenthesis for the code on the second line of your program.\n",
    "\n",
    "In the `println()` statement, notice that the message to display has an opening quotation mark, but no closing quotation mark. Even though there is a closing parenthesis in the code, the compiler thinks the parenthesis is part of the text to print because there is no closing quotation mark before it.\n",
    "\n",
    "Add the closing quotation mark after the exclamation point, before the closing parenthesis."
   ],
   "metadata": {
    "collapsed": false
   }
  },
  {
   "cell_type": "code",
   "execution_count": 2,
   "outputs": [
    {
     "name": "stdout",
     "output_type": "stream",
     "text": [
      "Today is sunny!\r\n"
     ]
    }
   ],
   "source": [
    "  println(\"Today is sunny!\")"
   ],
   "metadata": {
    "collapsed": false,
    "ExecuteTime": {
     "end_time": "2023-10-14T00:28:56.448127900Z",
     "start_time": "2023-10-14T00:28:56.333734800Z"
    }
   }
  },
  {
   "cell_type": "markdown",
   "source": [
    "The main function contains one line of code, which is a `println()` statement, where the text is enclosed in quotation marks and placed within the parentheses: `Today is sunny!`."
   ],
   "metadata": {
    "collapsed": false
   }
  }
 ],
 "metadata": {
  "kernelspec": {
   "display_name": "Kotlin",
   "language": "kotlin",
   "name": "kotlin"
  },
  "language_info": {
   "name": "kotlin",
   "version": "1.9.0",
   "mimetype": "text/x-kotlin",
   "file_extension": ".kt",
   "pygments_lexer": "kotlin",
   "codemirror_mode": "text/x-kotlin",
   "nbconvert_exporter": ""
  }
 },
 "nbformat": 4,
 "nbformat_minor": 0
}
