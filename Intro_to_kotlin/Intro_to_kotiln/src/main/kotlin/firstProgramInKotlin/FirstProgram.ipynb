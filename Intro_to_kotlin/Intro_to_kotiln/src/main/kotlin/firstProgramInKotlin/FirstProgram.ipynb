{
 "cells": [
  {
   "cell_type": "markdown",
   "source": [
    "# Your first program in Kotlin"
   ],
   "metadata": {
    "collapsed": false
   }
  },
  {
   "cell_type": "markdown",
   "source": [
    "Run a kotlin program.\n",
    "\n",
    "When you click a <span><img width=\"20\" src=\"https://developer.android.com/static/codelabs/basic-android-kotlin-compose-first-program/img/35cd601a27edda82_856.png\"></span> button, a lot happens.  Code in the Kotlin programming language is meant to be understood by humans, so that people can more easily read, write, and collaborate on Kotlin programs. However, your computer doesn't immediately understand this language.\n",
    "\n",
    "You need something called the Kotlin compiler, which takes the Kotlin code you wrote, looks at it line by line, and translates it into something that the computer can understand. This process is called compiling your code.\n",
    "\n",
    "If your code compiles successfully, your program will run (or execute). When the computer executes your program, it performs each of your instructions. If you've ever followed a cooking recipe, performing each step in the recipe is considered executing each instruction.\n",
    "\n",
    "Here's a screenshot of what you should see when you run your program.\n",
    "\n",
    "<center><img height=\"200\" src=\"https://developer.android.com/static/codelabs/basic-android-kotlin-compose-first-program/img/bddc4519d348bd25_856.png\"></center>\n",
    "\n",
    "Now try to run this code:"
   ],
   "metadata": {
    "collapsed": false
   }
  },
  {
   "cell_type": "code",
   "execution_count": 2,
   "metadata": {
    "collapsed": true,
    "ExecuteTime": {
     "end_time": "2023-10-13T02:14:23.656360Z",
     "start_time": "2023-10-13T02:14:23.606559700Z"
    }
   },
   "outputs": [
    {
     "name": "stdout",
     "output_type": "stream",
     "text": [
      "Hello, world!\r\n"
     ]
    }
   ],
   "source": [
    "println(\"Hello, world!\")"
   ]
  },
  {
   "cell_type": "markdown",
   "source": [
    "that code will show the text \"Hello, world!\" but we don't need a main function in this notebook."
   ],
   "metadata": {
    "collapsed": false
   }
  }
 ],
 "metadata": {
  "kernelspec": {
   "display_name": "Kotlin",
   "language": "kotlin",
   "name": "kotlin"
  },
  "language_info": {
   "name": "kotlin",
   "version": "1.9.0",
   "mimetype": "text/x-kotlin",
   "file_extension": ".kt",
   "pygments_lexer": "kotlin",
   "codemirror_mode": "text/x-kotlin",
   "nbconvert_exporter": ""
  }
 },
 "nbformat": 4,
 "nbformat_minor": 0
}
