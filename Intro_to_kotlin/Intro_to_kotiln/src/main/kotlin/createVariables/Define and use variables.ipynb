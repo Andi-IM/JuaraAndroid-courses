{
 "cells": [
  {
   "cell_type": "markdown",
   "source": [
    "# Define and use variables\n",
    "\n",
    "## Define versus use a variable\n",
    "\n",
    "You must define a variable first in your code before you can use the variable. This is similar to what you learned in the last codelab about defining functions before calling them.\n",
    "\n",
    "When you define a variable, you assign a name to uniquely identify it. You also decide what type of data it can hold by specifying the data type. Lastly, you can provide an initial value that will be stored in the variable, but this is optional.\n",
    "\n",
    "> Note: You may hear the alternate phrase \"declare a variable.\" The words declare and define can be used interchangeably and have the same meaning. You may also hear the term \"variable definition\" or \"variable declaration\", which refer to the code that defines a variable. In other languages, declare and define have different meanings.\n",
    "\n",
    "Once you define a variable, you can use that variable in your program. To use a variable, type out the variable name in your code, which tells the Kotlin compiler that you want to use the variable's value at that point in the code.\n",
    "\n",
    "For example, define a variable for the number of unread messages in a user's inbox. The variable can have the name `count`. Store a value such as the number `2` inside the variable, representing `2` unread messages in the user's inbox. (You can pick a different number to store in the variable, but for the purpose of this example, use the number `2`.)\n",
    "\n",
    "<p align=\"center\"><img src=\"https://developer.android.com/static/codelabs/basic-android-kotlin-compose-variables/img/1e3abc5c6eb06b08_856.png\" height=\"200\"></p>\n",
    "\n",
    "Every time your code needs to access the number of unread messages, type `count` in your code. When executing your instructions, the Kotlin compiler sees the variable name in your code and uses the variable value in its place.\n",
    "\n",
    "Technically, there are more specific vocabulary words to describe this process:\n",
    "\n",
    "An *expression* is a small unit of code that evaluates to a value. An expression can be made up of variables, function calls, and more. In the following case, the expression is made up of one variable: the `count` variable. This expression evaluates to `2`.\n",
    "\n",
    "<p align=\"center\"><img src=\"https://developer.android.com/static/codelabs/basic-android-kotlin-compose-variables/img/c0c5d14e56689ccf_856.png\" height=\"200\"></p>\n",
    "\n",
    "*Evaluate* means determining the value of an expression. In this case, the expression evaluates to `2`. The compiler evaluates expressions in the code and uses those values when executing the instructions in the program.\n",
    "\n",
    "<p align=\"center\"><img src=\"https://developer.android.com/static/codelabs/basic-android-kotlin-compose-variables/img/a1745babe0248447_856.png\" height=\"200\"></p>"
   ],
   "metadata": {
    "collapsed": false
   }
  },
  {
   "cell_type": "markdown",
   "source": [
    "# Example"
   ],
   "metadata": {
    "collapsed": false
   }
  },
  {
   "cell_type": "code",
   "execution_count": 2,
   "metadata": {
    "collapsed": true,
    "ExecuteTime": {
     "end_time": "2023-10-17T00:16:22.821910600Z",
     "start_time": "2023-10-17T00:16:22.689626200Z"
    }
   },
   "outputs": [
    {
     "name": "stdout",
     "output_type": "stream",
     "text": [
      "2\r\n"
     ]
    }
   ],
   "source": [
    "val count: Int = 2\n",
    "println(count)"
   ]
  },
  {
   "cell_type": "markdown",
   "source": [
    "In the program you ran, the second line says:\n",
    "```kotlin\n",
    "val count: Int = 2\n",
    "```\n",
    "\n",
    "This statement creates an integer variable called `count` that holds number `2`.\n",
    "\n",
    "<p align=\"center\"><img src=\"https://developer.android.com/static/codelabs/basic-android-kotlin-compose-variables/img/1e3abc5c6eb06b08_856.png\" height=\"200\"></p>\n",
    "\n",
    "It can take a while to become familiar with reading the syntax (or format) for declaring a variable in Kotlin. The following diagram shows where each detail about the variable should be located, as well as the location of spaces and symbols.\n",
    "\n",
    "<p align=\"center\"><img src=\"https://developer.android.com/static/codelabs/basic-android-kotlin-compose-variables/img/107308eb20c91097_856.png\" height=\"200\"></p>\n",
    "\n",
    "In the context of the `count` variable example, you can see that the variable declaration starts with the word `val`. The name of the variable is `count`. The data type is `Int`, and the initial value is `2`.\n",
    "\n",
    "<p align=\"center\"><img src=\"https://developer.android.com/static/codelabs/basic-android-kotlin-compose-variables/img/efa8048aece6c808_856.png\" height=\"200\"></p>"
   ],
   "metadata": {
    "collapsed": false
   }
  },
  {
   "cell_type": "code",
   "execution_count": null,
   "outputs": [],
   "source": [],
   "metadata": {
    "collapsed": false
   }
  }
 ],
 "metadata": {
  "kernelspec": {
   "display_name": "Kotlin",
   "language": "kotlin",
   "name": "kotlin"
  },
  "language_info": {
   "name": "kotlin",
   "version": "1.9.0",
   "mimetype": "text/x-kotlin",
   "file_extension": ".kt",
   "pygments_lexer": "kotlin",
   "codemirror_mode": "text/x-kotlin",
   "nbconvert_exporter": ""
  }
 },
 "nbformat": 4,
 "nbformat_minor": 0
}
