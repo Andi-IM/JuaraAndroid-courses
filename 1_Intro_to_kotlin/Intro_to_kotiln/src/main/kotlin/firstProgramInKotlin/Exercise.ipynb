{
 "cells": [
  {
   "cell_type": "markdown",
   "source": [
    "# Exercises\n",
    "\n"
   ],
   "metadata": {
    "collapsed": false
   }
  },
  {
   "cell_type": "code",
   "execution_count": 2,
   "metadata": {
    "collapsed": true,
    "ExecuteTime": {
     "end_time": "2023-10-14T00:55:17.598236700Z",
     "start_time": "2023-10-14T00:55:17.459986700Z"
    }
   },
   "outputs": [
    {
     "name": "stdout",
     "output_type": "stream",
     "text": [
      "1\r\n",
      "2\r\n",
      "3\r\n"
     ]
    }
   ],
   "source": [
    "println(\"1\")\n",
    "println(\"2\")\n",
    "println(\"3\")"
   ]
  },
  {
   "cell_type": "code",
   "execution_count": 3,
   "outputs": [
    {
     "name": "stdout",
     "output_type": "stream",
     "text": [
      "I'm\r\n",
      "learning\r\n",
      "Kotlin!\r\n"
     ]
    }
   ],
   "source": [
    "println(\"I'm\")\n",
    "println(\"learning\")\n",
    "println(\"Kotlin!\")"
   ],
   "metadata": {
    "collapsed": false,
    "ExecuteTime": {
     "end_time": "2023-10-14T00:55:39.344856300Z",
     "start_time": "2023-10-14T00:55:39.273573400Z"
    }
   }
  },
  {
   "cell_type": "code",
   "execution_count": 4,
   "outputs": [
    {
     "name": "stdout",
     "output_type": "stream",
     "text": [
      "Monday\r\n",
      "Tuesday\r\n",
      "Wednesday\r\n",
      "Thursday\r\n",
      "Friday\r\n"
     ]
    }
   ],
   "source": [
    "println(\"Monday\")\n",
    "println(\"Tuesday\")\n",
    "println(\"Wednesday\")\n",
    "println(\"Thursday\")\n",
    "println(\"Friday\")"
   ],
   "metadata": {
    "collapsed": false,
    "ExecuteTime": {
     "end_time": "2023-10-14T00:56:20.559349900Z",
     "start_time": "2023-10-14T00:56:20.484601Z"
    }
   }
  },
  {
   "cell_type": "code",
   "execution_count": 5,
   "outputs": [
    {
     "name": "stdout",
     "output_type": "stream",
     "text": [
      "Tomorrow is rainy\r\n"
     ]
    }
   ],
   "source": [
    "println(\"Tomorrow is rainy\")"
   ],
   "metadata": {
    "collapsed": false,
    "ExecuteTime": {
     "end_time": "2023-10-14T00:56:32.574072Z",
     "start_time": "2023-10-14T00:56:32.502095500Z"
    }
   }
  },
  {
   "cell_type": "code",
   "execution_count": 6,
   "outputs": [
    {
     "name": "stderr",
     "output_type": "stream",
     "text": [
      "Line_6.jupyter.kts (1:3 - 12) Unresolved reference: printLine"
     ]
    }
   ],
   "source": [
    "  printLine(\"There is a chance of snow\")"
   ],
   "metadata": {
    "collapsed": false,
    "ExecuteTime": {
     "end_time": "2023-10-14T00:56:38.805033200Z",
     "start_time": "2023-10-14T00:56:38.738299700Z"
    }
   }
  },
  {
   "cell_type": "code",
   "execution_count": 7,
   "outputs": [
    {
     "name": "stdout",
     "output_type": "stream",
     "text": [
      "There is a chance of snow\r\n"
     ]
    }
   ],
   "source": [
    "  println(\"There is a chance of snow\")"
   ],
   "metadata": {
    "collapsed": false,
    "ExecuteTime": {
     "end_time": "2023-10-14T00:56:48.395610100Z",
     "start_time": "2023-10-14T00:56:48.346737400Z"
    }
   }
  },
  {
   "cell_type": "code",
   "execution_count": 10,
   "outputs": [
    {
     "name": "stdout",
     "output_type": "stream",
     "text": [
      "Cloudy\r\n",
      "Partly Cloudy\r\n",
      "Windy\r\n"
     ]
    }
   ],
   "source": [
    " println(\"Cloudy\"); println(\"Partly Cloudy\"); println(\"Windy\")"
   ],
   "metadata": {
    "collapsed": false,
    "ExecuteTime": {
     "end_time": "2023-10-14T00:57:20.412367200Z",
     "start_time": "2023-10-14T00:57:20.358126600Z"
    }
   }
  },
  {
   "cell_type": "code",
   "execution_count": 11,
   "outputs": [
    {
     "name": "stdout",
     "output_type": "stream",
     "text": [
      "How's the weather today?\r\n"
     ]
    }
   ],
   "source": [
    " println(\"How's the weather today?\")"
   ],
   "metadata": {
    "collapsed": false,
    "ExecuteTime": {
     "end_time": "2023-10-14T00:57:31.075674700Z",
     "start_time": "2023-10-14T00:57:31.032711400Z"
    }
   }
  }
 ],
 "metadata": {
  "kernelspec": {
   "display_name": "Kotlin",
   "language": "kotlin",
   "name": "kotlin"
  },
  "language_info": {
   "name": "kotlin",
   "version": "1.9.0",
   "mimetype": "text/x-kotlin",
   "file_extension": ".kt",
   "pygments_lexer": "kotlin",
   "codemirror_mode": "text/x-kotlin",
   "nbconvert_exporter": ""
  }
 },
 "nbformat": 4,
 "nbformat_minor": 0
}
