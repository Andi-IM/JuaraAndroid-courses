{
 "cells": [
  {
   "cell_type": "markdown",
   "source": [
    "# Modify your program\n",
    "1. In order to change the message that's displayed in the output, modify the `println()` function call on the second line of the program. Replace `world` with `Android` in the `println()` function. Make sure that `Hello, Android!` is still within quotation marks and within the parentheses."
   ],
   "metadata": {
    "collapsed": false
   }
  },
  {
   "cell_type": "code",
   "execution_count": 1,
   "metadata": {
    "collapsed": true,
    "ExecuteTime": {
     "end_time": "2023-10-13T23:11:19.829136300Z",
     "start_time": "2023-10-13T23:11:19.643326700Z"
    }
   },
   "outputs": [
    {
     "name": "stdout",
     "output_type": "stream",
     "text": [
      "Hello, Android\r\n"
     ]
    }
   ],
   "source": [
    "println(\"Hello, Android\")"
   ]
  },
  {
   "cell_type": "markdown",
   "source": [
    "the output should look like this\n",
    "\n",
    "```text\n",
    "\n",
    "Hello, Android!\n",
    "```\n",
    "\n",
    "Nice job, you modified your first program!\n",
    "\n",
    "Now can you change your code so that the message gets printed twice? See the desired output:\n",
    "\n",
    "\n",
    "```text\n",
    "Hello, Android!\n",
    "```\n",
    "\n",
    "\n",
    "# Print more than one message\n",
    "You can put as many lines of instructions inside a function as you need to accomplish a task. However, note that there should only be one statement per line in Kotlin. If you want to write another statement, put it on a new line of the function."
   ],
   "metadata": {
    "collapsed": false
   }
  },
  {
   "cell_type": "code",
   "execution_count": 2,
   "outputs": [
    {
     "name": "stdout",
     "output_type": "stream",
     "text": [
      "Hello, Android!\r\n",
      "Hello, Android!\r\n"
     ]
    }
   ],
   "source": [
    "  println(\"Hello, Android!\")\n",
    "    println(\"Hello, Android!\")"
   ],
   "metadata": {
    "collapsed": false,
    "ExecuteTime": {
     "end_time": "2023-10-13T23:13:25.822362800Z",
     "start_time": "2023-10-13T23:13:25.701274300Z"
    }
   }
  }
 ],
 "metadata": {
  "kernelspec": {
   "display_name": "Kotlin",
   "language": "kotlin",
   "name": "kotlin"
  },
  "language_info": {
   "name": "kotlin",
   "version": "1.9.0",
   "mimetype": "text/x-kotlin",
   "file_extension": ".kt",
   "pygments_lexer": "kotlin",
   "codemirror_mode": "text/x-kotlin",
   "nbconvert_exporter": ""
  }
 },
 "nbformat": 4,
 "nbformat_minor": 0
}
