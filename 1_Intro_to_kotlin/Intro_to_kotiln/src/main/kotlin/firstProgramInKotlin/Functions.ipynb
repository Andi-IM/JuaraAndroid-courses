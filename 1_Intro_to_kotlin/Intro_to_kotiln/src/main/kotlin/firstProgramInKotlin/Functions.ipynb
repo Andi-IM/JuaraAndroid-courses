{
 "cells": [
  {
   "cell_type": "markdown",
   "source": [
    "# Parts of a Function\n",
    "\n",
    "A function is a segment of a program that performs a spesific task. Your program may have one or more functions."
   ],
   "metadata": {
    "collapsed": false
   }
  },
  {
   "cell_type": "markdown",
   "source": [
    "## Define versus call a function\n",
    "\n",
    "In your code, you define a function first. That means you specify all the instructions needed to perform that task.\n",
    "\n",
    "Once the function is defined, then you can call that function, so the instructions within that function can be performed or executed.\n",
    "\n",
    "Here's an analogy. You write out step-by-step instructions on how to bake a chocolate cake. This set of instructions can have a name: `bakeChocolateCake`. Every time you want to bake a cake, you can execute the `bakeChocolateCake` instructions. If you want 3 cakes, you need to execute the `bakeChocolateCake` instructions 3 times. The first step is defining the steps and giving it a name, which is considered defining the function. Then you can refer to the steps anytime you want them to be executed, which is considered calling the function.\n",
    "\n",
    "> Note: You may hear the alternate phrase \"declare a function.\" The words declare and define can be used interchangeably and have the same meaning. You may also hear the term \"function definition\" or \"function declaration\", which refer to the exact code that defines a function. In some other programming languages, declare and define have different meanings."
   ],
   "metadata": {
    "collapsed": false
   }
  },
  {
   "cell_type": "markdown",
   "source": [
    "## Define a function\n",
    "\n",
    "These are the key parts needed to define a function:\n",
    "\n",
    "- The function needs a **name**, so you can call it later.\n",
    "- The function can also require some **inputs**, or information that needs to be provided when the function is called. The function uses these inputs to accomplish its purpose. Requiring inputs is optional, and some functions do not require inputs.\n",
    "- The function also has a **body** which contains the instructions to perform the task.\n",
    "\n",
    "<p align=\"center\"><img src=\"https://developer.android.com/static/codelabs/basic-android-kotlin-compose-first-program/img/7132067d45048b93_856.png\" height=\"200\"/></p>\n",
    "\n",
    "To translate the above diagram into Kotlin code, use the following syntax, or format, for defining a function. The order of these elements matters. The fun word must come first, followed by the function name, followed by the inputs in parentheses, followed by curly braces around the function body.\n",
    "\n",
    "\n",
    "<center><img src=\"https://developer.android.com/static/codelabs/basic-android-kotlin-compose-first-program/img/e8b488369268e737_856.png\" height=\"200\"/></center>\n",
    "\n",
    "\n",
    "Notice the key parts of a function within the main function example you saw in the Kotlin Playground:\n",
    "- The function definition starts with the word fun.\n",
    "- Then the name of the function is main.\n",
    "- There are no inputs to the function, so the parentheses are empty.\n",
    "- There is one line of code in the function body, println(\"Hello, world!\"), which is located between the opening and closing curly braces of the function.\n",
    "\n",
    "<p align=\"center\"><img src=\"https://developer.android.com/static/codelabs/basic-android-kotlin-compose-first-program/img/59fb37516122697d_856.png\" height=200\">\n",
    "</p>\n",
    "\n",
    "Each part of the function is explained in more detail below.\n",
    "\n",
    "\n",
    "**Function keyword**\n",
    "To indicate that you're about to define a function in Kotlin, use the special word fun (short for function) on a new line. You must type fun exactly as shown in all lowercase letters. You can't use func, function, or some alternative spelling because the Kotlin compiler won't recognize what you mean.\n",
    "\n",
    "These special words are called keywords in Kotlin and are reserved for a specific purpose, such as creating a new function in Kotlin.\n",
    "\n",
    "**Function name**\n",
    "Functions have names so they can be distinguished from each other, similar to how people have names to identify themselves. The name of the function is found after the fun keyword.\n",
    "\n",
    "<center><img src=\"https://developer.android.com/static/codelabs/basic-android-kotlin-compose-first-program/img/ba432607f21752f4_856.png\" height=\"200\"></center>\n",
    "\n",
    "Choose an appropriate name for your function based on the purpose of the function. The name is usually a verb or verb phrase. It's recommended to avoid using a [Kotlin keyword](https://kotlinlang.org/docs/keyword-reference.html) as a function name.\n",
    "\n",
    "Function names should follow the camel case convention, where the first word of the function name is all lower case. If there are multiple words in the name, there are no spaces between words, and all other words should begin with a capital letter.\n",
    "\n",
    "Example function names:\n",
    "\n",
    "- `calculateTip`\n",
    "- `displayErrorMessage`\n",
    "- `takePhoto`\n",
    "\n",
    "**Function inputs**\n",
    "Notice that the function name is always followed by parentheses. These parentheses are where you list inputs for the function.\n",
    "\n",
    "<p align=\"center\"><img src=\"https://developer.android.com/static/codelabs/basic-android-kotlin-compose-first-program/img/6d0b9acf98a9d2e8_856.png\" height=\"200\"></p>\n",
    "\n",
    "An input is a piece of data that a function needs to perform its purpose. When you define a function, you can require that certain inputs be passed in when the function is called. If there are no inputs required for a function, the parentheses are empty `()`.\n",
    "\n",
    "Here are some examples of functions with a different number of inputs:\n",
    "\n",
    "The following diagram shows a function that is called `addOne`. The purpose of the function is to add 1 to a given number. There is one input, which is the given number. Inside the function body, there is code that adds 1 to the number passed into the function.\n",
    "\n",
    "<p align=\"center\"><img src=\"https://developer.android.com/static/codelabs/basic-android-kotlin-compose-first-program/img/2aacdc39be4dafc8_856.png\" height=\"200\"></p>\n",
    "\n",
    "In this next example, there is a function called `printFullName`. There are two inputs required for the function, one for the first name and one for the last name. The function body prints out the first name and last name in the output, to display the person's full name.\n",
    "\n",
    "<p align=\"center\"><img src=\"https://developer.android.com/static/codelabs/basic-android-kotlin-compose-first-program/img/51f4d1b94b208dfe_856.png\" height=\"200\"></p>\n",
    "\n",
    "This last example shows a function that doesn't require any inputs to be passed in when the function is called. When you call the displayHello() function, a Hello message gets printed to the output.\n",
    "\n",
    "<p align=\"center\"><img src=\"https://developer.android.com/static/codelabs/basic-android-kotlin-compose-first-program/img/2d4050e223850fcf_856.png\" height=\"200\"></p>\n",
    "\n",
    "**Function body**\n",
    "The function body contains the instructions needed to achieve the purpose of the function. You can locate the function body by looking for the lines of code enclosed within the opening and closing curly braces.\n",
    "\n",
    "<p align=\"center\"><img src=\"https://developer.android.com/static/codelabs/basic-android-kotlin-compose-first-program/img/e012dd6fe687506a_856.png\" height=\"200\"></p>\n",
    "\n",
    "\n",
    "### Simple program explained\n",
    "Look back at the simple program that you saw earlier in the codelab.\n",
    "\n",
    "<p align=\"center\"><img src=\"https://developer.android.com/static/codelabs/basic-android-kotlin-compose-first-program/img/59fb37516122697d_856.png\" height=\"200\"></p>\n",
    "\n",
    "The program contains one function: the `main` function. `main` is a special function name in Kotlin. When you're writing your code in the Kotlin Playground, your code should be written inside the `main()` function or called from the `main()` function.\n",
    "\n",
    "There's only one line of code in the body of this `main()` function:\n",
    "```kotlin\n",
    "println(\"Hello, world!\")\n",
    "```\n",
    "\n",
    "This line of code is a statement because it performs a specific action, which is to print the `Hello, world!` text in the output pane. More specifically, the `println()` function is being called on this line of code. [`println()`](https://kotlinlang.org/api/latest/jvm/stdlib/kotlin.io/println.html) is a function that's already defined in the Kotlin language. That means the team of engineers who created the Kotlin language already wrote out the function declaration for the `println()` function. The function requires one input, which is the message that should be printed.\n",
    "\n",
    "When you call the `println()` function, place the message text within parentheses after the function name. Be sure to use quotation marks around the text to display, such as \"Hello, world!\".\n",
    "\n",
    "When the program is executed, the message that was passed into the `println()` function is printed to the output:\n",
    "\n",
    "```text\n",
    "Hello, world!\n",
    "```\n",
    "\n",
    "### Try it\n",
    "Now look back at the original code in the program. Can you modify the code in the Kotlin Playground so that the output shows this message instead?\n",
    "\n",
    "```text\n",
    "Hello, Android!\n",
    "```\n",
    "\n"
   ],
   "metadata": {
    "collapsed": false
   }
  },
  {
   "cell_type": "code",
   "execution_count": 1,
   "metadata": {
    "collapsed": true,
    "ExecuteTime": {
     "end_time": "2023-10-13T17:10:29.275940800Z",
     "start_time": "2023-10-13T17:10:29.174385100Z"
    }
   },
   "outputs": [
    {
     "name": "stdout",
     "output_type": "stream",
     "text": [
      "Hello, Android\r\n"
     ]
    }
   ],
   "source": [
    "println(\"Hello, Android\")"
   ]
  }
 ],
 "metadata": {
  "kernelspec": {
   "display_name": "Kotlin",
   "language": "kotlin",
   "name": "kotlin"
  },
  "language_info": {
   "name": "kotlin",
   "version": "1.9.0",
   "mimetype": "text/x-kotlin",
   "file_extension": ".kt",
   "pygments_lexer": "kotlin",
   "codemirror_mode": "text/x-kotlin",
   "nbconvert_exporter": ""
  }
 },
 "nbformat": 4,
 "nbformat_minor": 0
}
