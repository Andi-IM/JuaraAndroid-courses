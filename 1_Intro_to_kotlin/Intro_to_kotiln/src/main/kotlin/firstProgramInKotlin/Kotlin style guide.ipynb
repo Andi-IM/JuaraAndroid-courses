{
 "cells": [
  {
   "cell_type": "markdown",
   "source": [
    "# Kotlin style guide\n",
    "Throughout this course, you'll learn about good coding practices to follow as an Android developer. One such practice is to follow Google's Android coding standards for code written in Kotlin. The complete guide is called a style guide and explains how code should be formatted in terms of visual appearance and the conventions to follow when writing your code. For example, the style guide includes recommendations on use of whitespace, indentation, naming, and more.\n",
    "\n",
    "The purpose of following the style guide is to make your code easier to read and more consistent with how other Android developers write their code. This consistency is important when collaborating on large projects together, so that the style of code is the same throughout all the files in the project.\n",
    "\n",
    "Here are some of the relevant style guide recommendations for what you've learned in Kotlin so far:\n",
    "\n",
    "- Function names should be in camel case and should be verbs or verb phrases.\n",
    "- Each statement should be on its own line.\n",
    "- The opening curly brace should appear at the end of the line where the function begins.\n",
    "- There should be a space before the opening curly brace.\n",
    "\n",
    "\n",
    "<p align=\"center\"><img src=\"https://developer.android.com/static/codelabs/basic-android-kotlin-compose-first-program/img/83759a94e8b6622e_856.png\" height=\"200\"></p>\n",
    "\n",
    "- The function body should be indented in by 4 spaces. Do not use a tab character to indent your code, type in 4 spaces.\n",
    "\n",
    "<p align=\"center\"><img src=\"https://developer.android.com/static/codelabs/basic-android-kotlin-compose-first-program/img/3f24b3fe1eda0302_856.png\" height=\"200\"></p>\n",
    "\n",
    "- The closing curly brace is on its own line after the last line of code in the function body. The closing brace should line up with the `fun` keyword at the beginning of the function.\n",
    "\n",
    "<p align=\"center\"><img src=\"https://developer.android.com/static/codelabs/basic-android-kotlin-compose-first-program/img/22350528401a32f1_856.png\" height=\"200\"></p>\n",
    "\n",
    "\n",
    "- You will learn more Android coding conventions as you build your knowledge in Kotlin. The full style guide is [here](https://developer.android.com/kotlin/style-guide \"Kotlin Style Guide\"), but don't worry that it covers other topics in Kotlin you haven't learned yet."
   ],
   "metadata": {
    "collapsed": false
   }
  }
 ],
 "metadata": {
  "kernelspec": {
   "display_name": "Kotlin",
   "language": "kotlin",
   "name": "kotlin"
  },
  "language_info": {
   "name": "kotlin",
   "version": "1.9.0",
   "mimetype": "text/x-kotlin",
   "file_extension": ".kt",
   "pygments_lexer": "kotlin",
   "codemirror_mode": "text/x-kotlin",
   "nbconvert_exporter": ""
  }
 },
 "nbformat": 4,
 "nbformat_minor": 0
}
